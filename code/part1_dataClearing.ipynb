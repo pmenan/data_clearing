{
 "cells": [
  {
   "cell_type": "code",
   "execution_count": 42,
   "metadata": {},
   "outputs": [],
   "source": [
    "#10/12/2020\n",
    "#DATA CLEARING\n",
    "#In this exercise, i worked on DATA CLEARING\n",
    "#file name : Donnees_CRM_Large-Data_(V3-01).xls, it is a customer fille of a bookshopp\n",
    "\n",
    "import pandas as pd\n",
    "file_path = \"C:/Users/Patrick Menan/Desktop/TP1/Donnees_CRM_Large-Data_(V3-01).xls\"\n",
    "#pd.options.display.max_rows = 10\n",
    "file = pd.read_excel(file_path, header = 1)"
   ]
  },
  {
   "cell_type": "code",
   "execution_count": 43,
   "metadata": {
    "scrolled": true
   },
   "outputs": [
    {
     "name": "stdout",
     "output_type": "stream",
     "text": [
      "       Compte-Client  Panier moyen       Recence     Frequence  \\\n",
      "count   49270.000000  49270.000000  49270.000000  49270.000000   \n",
      "mean   135987.600528    207.515648     13.350193      3.889101   \n",
      "std    102031.493626    101.030168      8.112280      3.472289   \n",
      "min     10002.000000     15.000000      2.000000      1.000000   \n",
      "25%     34987.250000    128.000000      8.000000      1.000000   \n",
      "50%    136011.000000    208.000000     12.000000      2.000000   \n",
      "75%    237006.500000    282.000000     16.000000      6.000000   \n",
      "max    262020.000000    479.000000     36.000000     12.000000   \n",
      "\n",
      "       Achats du mois  Achats du trimestre  Achats du semestre  \\\n",
      "count         49270.0         49270.000000        49270.000000   \n",
      "mean              0.0            20.147863          120.727767   \n",
      "std               0.0            93.050817          307.778836   \n",
      "min               0.0             0.000000            0.000000   \n",
      "25%               0.0             0.000000            0.000000   \n",
      "50%               0.0             0.000000            0.000000   \n",
      "75%               0.0             0.000000            0.000000   \n",
      "max               0.0           942.000000         1884.000000   \n",
      "\n",
      "       Achats de l'année    Age Client  Cumul livres enfants  \\\n",
      "count       49270.000000  49270.000000          49270.000000   \n",
      "mean          607.246583     26.632231              0.851674   \n",
      "std           866.424590     18.331209              1.114559   \n",
      "min             0.000000      2.000000              0.000000   \n",
      "25%             0.000000     14.000000              0.000000   \n",
      "50%           259.636364     22.000000              1.000000   \n",
      "75%           880.600000     36.000000              1.000000   \n",
      "max          3768.000000     99.000000              8.000000   \n",
      "\n",
      "       Cumul livres ados  Cumul romans  Cumul livres d'art  \\\n",
      "count       49270.000000  49270.000000        49270.000000   \n",
      "mean            0.390420      0.937163            0.463893   \n",
      "std             0.680237      1.183532            0.764679   \n",
      "min             0.000000      0.000000            0.000000   \n",
      "25%             0.000000      0.000000            0.000000   \n",
      "50%             0.000000      1.000000            0.000000   \n",
      "75%             1.000000      1.000000            1.000000   \n",
      "max             6.000000      8.000000            7.000000   \n",
      "\n",
      "       Cumul livres bricolage  Cumul essais  Cumul livres historiques  \\\n",
      "count            49270.000000  49270.000000              49270.000000   \n",
      "mean                 0.310047      0.390380                  0.545525   \n",
      "std                  0.601535      0.687473                  0.844521   \n",
      "min                  0.000000      0.000000                  0.000000   \n",
      "25%                  0.000000      0.000000                  0.000000   \n",
      "50%                  0.000000      0.000000                  0.000000   \n",
      "75%                  0.000000      1.000000                  1.000000   \n",
      "max                  5.000000      5.000000                  7.000000   \n",
      "\n",
      "       Cumul livres scientifiques  Cumul livres géograohie  \\\n",
      "count                49270.000000             49270.000000   \n",
      "mean                     0.124254                 0.036696   \n",
      "std                      0.329875                 0.188016   \n",
      "min                      0.000000                 0.000000   \n",
      "25%                      0.000000                 0.000000   \n",
      "50%                      0.000000                 0.000000   \n",
      "75%                      0.000000                 0.000000   \n",
      "max                      1.000000                 1.000000   \n",
      "\n",
      "       Cumul livres d'économie  Cumul livres de finances  \n",
      "count             49270.000000              49270.000000  \n",
      "mean                  0.058210                  0.090643  \n",
      "std                   0.234142                  0.287104  \n",
      "min                   0.000000                  0.000000  \n",
      "25%                   0.000000                  0.000000  \n",
      "50%                   0.000000                  0.000000  \n",
      "75%                   0.000000                  0.000000  \n",
      "max                   1.000000                  1.000000  \n"
     ]
    }
   ],
   "source": [
    "#data description\n",
    "print(file.describe())"
   ]
  },
  {
   "cell_type": "code",
   "execution_count": 64,
   "metadata": {},
   "outputs": [
    {
     "name": "stdout",
     "output_type": "stream",
     "text": [
      "(49270, 21)\n"
     ]
    }
   ],
   "source": [
    "#show number of rows and columns\n",
    "print(file.shape)"
   ]
  },
  {
   "cell_type": "code",
   "execution_count": 47,
   "metadata": {},
   "outputs": [
    {
     "data": {
      "text/plain": [
       "Index(['Compte-Client', 'Sexe', 'Panier moyen', 'Recence', 'Frequence',\n",
       "       'Achats du mois', 'Achats du trimestre', 'Achats du semestre',\n",
       "       'Achats de l'année', 'Age Client', 'Cumul livres enfants',\n",
       "       'Cumul livres ados', 'Cumul romans', 'Cumul livres d'art',\n",
       "       'Cumul livres bricolage', 'Cumul essais', 'Cumul livres historiques',\n",
       "       'Cumul livres scientifiques', 'Cumul livres géograohie',\n",
       "       'Cumul livres d'économie', 'Cumul livres de finances'],\n",
       "      dtype='object')"
      ]
     },
     "execution_count": 47,
     "metadata": {},
     "output_type": "execute_result"
    }
   ],
   "source": [
    "#return columns name\n",
    "file.columns"
   ]
  },
  {
   "cell_type": "code",
   "execution_count": 48,
   "metadata": {},
   "outputs": [
    {
     "name": "stdout",
     "output_type": "stream",
     "text": [
      "   Compte-Client Sexe  Panier moyen  Recence  Frequence  Achats du mois  \\\n",
      "0          10166    F            27       12          1               0   \n",
      "1          10026    F            29       16          1               0   \n",
      "2          10224    F            33       12          1               0   \n",
      "3          10219    F            39       16          1               0   \n",
      "4          10144    M            44       12          2               0   \n",
      "\n",
      "   Achats du trimestre  Achats du semestre  Achats de l'année  Age Client  \\\n",
      "0                  0.0                 0.0              324.0          12   \n",
      "1                  0.0                 0.0                0.0          16   \n",
      "2                  0.0                 0.0              396.0          12   \n",
      "3                  0.0                 0.0                0.0          16   \n",
      "4                  0.0                 0.0              264.0          20   \n",
      "\n",
      "   ...  Cumul livres ados  Cumul romans  Cumul livres d'art  \\\n",
      "0  ...                  0             1                   0   \n",
      "1  ...                  0             0                   0   \n",
      "2  ...                  1             0                   0   \n",
      "3  ...                  1             0                   0   \n",
      "4  ...                  0             2                   0   \n",
      "\n",
      "   Cumul livres bricolage  Cumul essais  Cumul livres historiques  \\\n",
      "0                       0             0                         0   \n",
      "1                       0             0                         0   \n",
      "2                       0             0                         0   \n",
      "3                       0             0                         0   \n",
      "4                       0             0                         0   \n",
      "\n",
      "   Cumul livres scientifiques  Cumul livres géograohie  \\\n",
      "0                           0                        0   \n",
      "1                           0                        0   \n",
      "2                           0                        0   \n",
      "3                           0                        0   \n",
      "4                           0                        0   \n",
      "\n",
      "   Cumul livres d'économie  Cumul livres de finances  \n",
      "0                        0                         0  \n",
      "1                        0                         0  \n",
      "2                        0                         0  \n",
      "3                        0                         0  \n",
      "4                        0                         0  \n",
      "\n",
      "[5 rows x 21 columns]\n"
     ]
    }
   ],
   "source": [
    "print(file.head())"
   ]
  },
  {
   "cell_type": "code",
   "execution_count": 50,
   "metadata": {},
   "outputs": [
    {
     "name": "stdout",
     "output_type": "stream",
     "text": [
      "0         10166\n",
      "1         10026\n",
      "2         10224\n",
      "3         10219\n",
      "4         10144\n",
      "          ...  \n",
      "49265    260051\n",
      "49266    261002\n",
      "49267    261650\n",
      "49268    260340\n",
      "49269    260254\n",
      "Name: Compte-Client, Length: 49270, dtype: int64\n"
     ]
    }
   ],
   "source": [
    "print(file['Compte-Client'])"
   ]
  },
  {
   "cell_type": "code",
   "execution_count": 59,
   "metadata": {},
   "outputs": [
    {
     "name": "stdout",
     "output_type": "stream",
     "text": [
      "0        False\n",
      "1        False\n",
      "2        False\n",
      "3        False\n",
      "4        False\n",
      "         ...  \n",
      "49265    False\n",
      "49266    False\n",
      "49267    False\n",
      "49268    False\n",
      "49269    False\n",
      "Name: Compte-Client, Length: 49270, dtype: bool\n"
     ]
    }
   ],
   "source": [
    "#return True for duplicated entry and False for the others\n",
    "print(file['Compte-Client'].duplicated()) "
   ]
  },
  {
   "cell_type": "code",
   "execution_count": 63,
   "metadata": {},
   "outputs": [
    {
     "data": {
      "text/html": [
       "<div>\n",
       "<style scoped>\n",
       "    .dataframe tbody tr th:only-of-type {\n",
       "        vertical-align: middle;\n",
       "    }\n",
       "\n",
       "    .dataframe tbody tr th {\n",
       "        vertical-align: top;\n",
       "    }\n",
       "\n",
       "    .dataframe thead th {\n",
       "        text-align: right;\n",
       "    }\n",
       "</style>\n",
       "<table border=\"1\" class=\"dataframe\">\n",
       "  <thead>\n",
       "    <tr style=\"text-align: right;\">\n",
       "      <th></th>\n",
       "      <th>Compte-Client</th>\n",
       "      <th>Sexe</th>\n",
       "      <th>Panier moyen</th>\n",
       "      <th>Recence</th>\n",
       "      <th>Frequence</th>\n",
       "      <th>Achats du mois</th>\n",
       "      <th>Achats du trimestre</th>\n",
       "      <th>Achats du semestre</th>\n",
       "      <th>Achats de l'année</th>\n",
       "      <th>Age Client</th>\n",
       "      <th>...</th>\n",
       "      <th>Cumul livres ados</th>\n",
       "      <th>Cumul romans</th>\n",
       "      <th>Cumul livres d'art</th>\n",
       "      <th>Cumul livres bricolage</th>\n",
       "      <th>Cumul essais</th>\n",
       "      <th>Cumul livres historiques</th>\n",
       "      <th>Cumul livres scientifiques</th>\n",
       "      <th>Cumul livres géograohie</th>\n",
       "      <th>Cumul livres d'économie</th>\n",
       "      <th>Cumul livres de finances</th>\n",
       "    </tr>\n",
       "  </thead>\n",
       "  <tbody>\n",
       "    <tr>\n",
       "      <th>9950</th>\n",
       "      <td>30180</td>\n",
       "      <td>F</td>\n",
       "      <td>160</td>\n",
       "      <td>2</td>\n",
       "      <td>2</td>\n",
       "      <td>0</td>\n",
       "      <td>240.0</td>\n",
       "      <td>480.0</td>\n",
       "      <td>960.0</td>\n",
       "      <td>4</td>\n",
       "      <td>...</td>\n",
       "      <td>0</td>\n",
       "      <td>0</td>\n",
       "      <td>0</td>\n",
       "      <td>1</td>\n",
       "      <td>0</td>\n",
       "      <td>0</td>\n",
       "      <td>0</td>\n",
       "      <td>1</td>\n",
       "      <td>0</td>\n",
       "      <td>0</td>\n",
       "    </tr>\n",
       "    <tr>\n",
       "      <th>9951</th>\n",
       "      <td>30180</td>\n",
       "      <td>M</td>\n",
       "      <td>244</td>\n",
       "      <td>16</td>\n",
       "      <td>8</td>\n",
       "      <td>0</td>\n",
       "      <td>0.0</td>\n",
       "      <td>0.0</td>\n",
       "      <td>0.0</td>\n",
       "      <td>38</td>\n",
       "      <td>...</td>\n",
       "      <td>1</td>\n",
       "      <td>0</td>\n",
       "      <td>2</td>\n",
       "      <td>1</td>\n",
       "      <td>0</td>\n",
       "      <td>2</td>\n",
       "      <td>0</td>\n",
       "      <td>1</td>\n",
       "      <td>0</td>\n",
       "      <td>0</td>\n",
       "    </tr>\n",
       "    <tr>\n",
       "      <th>22543</th>\n",
       "      <td>56016</td>\n",
       "      <td>M</td>\n",
       "      <td>60</td>\n",
       "      <td>30</td>\n",
       "      <td>3</td>\n",
       "      <td>0</td>\n",
       "      <td>0.0</td>\n",
       "      <td>0.0</td>\n",
       "      <td>0.0</td>\n",
       "      <td>42</td>\n",
       "      <td>...</td>\n",
       "      <td>0</td>\n",
       "      <td>0</td>\n",
       "      <td>1</td>\n",
       "      <td>0</td>\n",
       "      <td>1</td>\n",
       "      <td>1</td>\n",
       "      <td>0</td>\n",
       "      <td>0</td>\n",
       "      <td>0</td>\n",
       "      <td>0</td>\n",
       "    </tr>\n",
       "    <tr>\n",
       "      <th>22948</th>\n",
       "      <td>56016</td>\n",
       "      <td>F</td>\n",
       "      <td>323</td>\n",
       "      <td>10</td>\n",
       "      <td>2</td>\n",
       "      <td>0</td>\n",
       "      <td>0.0</td>\n",
       "      <td>0.0</td>\n",
       "      <td>1938.0</td>\n",
       "      <td>16</td>\n",
       "      <td>...</td>\n",
       "      <td>0</td>\n",
       "      <td>0</td>\n",
       "      <td>0</td>\n",
       "      <td>0</td>\n",
       "      <td>0</td>\n",
       "      <td>1</td>\n",
       "      <td>0</td>\n",
       "      <td>0</td>\n",
       "      <td>0</td>\n",
       "      <td>0</td>\n",
       "    </tr>\n",
       "    <tr>\n",
       "      <th>34585</th>\n",
       "      <td>232200</td>\n",
       "      <td>F</td>\n",
       "      <td>160</td>\n",
       "      <td>2</td>\n",
       "      <td>2</td>\n",
       "      <td>0</td>\n",
       "      <td>240.0</td>\n",
       "      <td>480.0</td>\n",
       "      <td>960.0</td>\n",
       "      <td>4</td>\n",
       "      <td>...</td>\n",
       "      <td>0</td>\n",
       "      <td>0</td>\n",
       "      <td>0</td>\n",
       "      <td>1</td>\n",
       "      <td>0</td>\n",
       "      <td>0</td>\n",
       "      <td>0</td>\n",
       "      <td>1</td>\n",
       "      <td>0</td>\n",
       "      <td>0</td>\n",
       "    </tr>\n",
       "    <tr>\n",
       "      <th>34586</th>\n",
       "      <td>232200</td>\n",
       "      <td>M</td>\n",
       "      <td>244</td>\n",
       "      <td>16</td>\n",
       "      <td>8</td>\n",
       "      <td>0</td>\n",
       "      <td>0.0</td>\n",
       "      <td>0.0</td>\n",
       "      <td>0.0</td>\n",
       "      <td>38</td>\n",
       "      <td>...</td>\n",
       "      <td>1</td>\n",
       "      <td>0</td>\n",
       "      <td>2</td>\n",
       "      <td>1</td>\n",
       "      <td>0</td>\n",
       "      <td>2</td>\n",
       "      <td>0</td>\n",
       "      <td>1</td>\n",
       "      <td>0</td>\n",
       "      <td>0</td>\n",
       "    </tr>\n",
       "    <tr>\n",
       "      <th>47349</th>\n",
       "      <td>258036</td>\n",
       "      <td>M</td>\n",
       "      <td>60</td>\n",
       "      <td>30</td>\n",
       "      <td>3</td>\n",
       "      <td>0</td>\n",
       "      <td>0.0</td>\n",
       "      <td>0.0</td>\n",
       "      <td>0.0</td>\n",
       "      <td>42</td>\n",
       "      <td>...</td>\n",
       "      <td>0</td>\n",
       "      <td>0</td>\n",
       "      <td>1</td>\n",
       "      <td>0</td>\n",
       "      <td>1</td>\n",
       "      <td>1</td>\n",
       "      <td>0</td>\n",
       "      <td>0</td>\n",
       "      <td>0</td>\n",
       "      <td>0</td>\n",
       "    </tr>\n",
       "    <tr>\n",
       "      <th>47350</th>\n",
       "      <td>258036</td>\n",
       "      <td>F</td>\n",
       "      <td>323</td>\n",
       "      <td>10</td>\n",
       "      <td>2</td>\n",
       "      <td>0</td>\n",
       "      <td>0.0</td>\n",
       "      <td>0.0</td>\n",
       "      <td>1938.0</td>\n",
       "      <td>16</td>\n",
       "      <td>...</td>\n",
       "      <td>0</td>\n",
       "      <td>0</td>\n",
       "      <td>0</td>\n",
       "      <td>0</td>\n",
       "      <td>0</td>\n",
       "      <td>1</td>\n",
       "      <td>0</td>\n",
       "      <td>0</td>\n",
       "      <td>0</td>\n",
       "      <td>0</td>\n",
       "    </tr>\n",
       "  </tbody>\n",
       "</table>\n",
       "<p>8 rows × 21 columns</p>\n",
       "</div>"
      ],
      "text/plain": [
       "       Compte-Client Sexe  Panier moyen  Recence  Frequence  Achats du mois  \\\n",
       "9950           30180    F           160        2          2               0   \n",
       "9951           30180    M           244       16          8               0   \n",
       "22543          56016    M            60       30          3               0   \n",
       "22948          56016    F           323       10          2               0   \n",
       "34585         232200    F           160        2          2               0   \n",
       "34586         232200    M           244       16          8               0   \n",
       "47349         258036    M            60       30          3               0   \n",
       "47350         258036    F           323       10          2               0   \n",
       "\n",
       "       Achats du trimestre  Achats du semestre  Achats de l'année  Age Client  \\\n",
       "9950                 240.0               480.0              960.0           4   \n",
       "9951                   0.0                 0.0                0.0          38   \n",
       "22543                  0.0                 0.0                0.0          42   \n",
       "22948                  0.0                 0.0             1938.0          16   \n",
       "34585                240.0               480.0              960.0           4   \n",
       "34586                  0.0                 0.0                0.0          38   \n",
       "47349                  0.0                 0.0                0.0          42   \n",
       "47350                  0.0                 0.0             1938.0          16   \n",
       "\n",
       "       ...  Cumul livres ados  Cumul romans  Cumul livres d'art  \\\n",
       "9950   ...                  0             0                   0   \n",
       "9951   ...                  1             0                   2   \n",
       "22543  ...                  0             0                   1   \n",
       "22948  ...                  0             0                   0   \n",
       "34585  ...                  0             0                   0   \n",
       "34586  ...                  1             0                   2   \n",
       "47349  ...                  0             0                   1   \n",
       "47350  ...                  0             0                   0   \n",
       "\n",
       "       Cumul livres bricolage  Cumul essais  Cumul livres historiques  \\\n",
       "9950                        1             0                         0   \n",
       "9951                        1             0                         2   \n",
       "22543                       0             1                         1   \n",
       "22948                       0             0                         1   \n",
       "34585                       1             0                         0   \n",
       "34586                       1             0                         2   \n",
       "47349                       0             1                         1   \n",
       "47350                       0             0                         1   \n",
       "\n",
       "       Cumul livres scientifiques  Cumul livres géograohie  \\\n",
       "9950                            0                        1   \n",
       "9951                            0                        1   \n",
       "22543                           0                        0   \n",
       "22948                           0                        0   \n",
       "34585                           0                        1   \n",
       "34586                           0                        1   \n",
       "47349                           0                        0   \n",
       "47350                           0                        0   \n",
       "\n",
       "       Cumul livres d'économie  Cumul livres de finances  \n",
       "9950                         0                         0  \n",
       "9951                         0                         0  \n",
       "22543                        0                         0  \n",
       "22948                        0                         0  \n",
       "34585                        0                         0  \n",
       "34586                        0                         0  \n",
       "47349                        0                         0  \n",
       "47350                        0                         0  \n",
       "\n",
       "[8 rows x 21 columns]"
      ]
     },
     "execution_count": 63,
     "metadata": {},
     "output_type": "execute_result"
    }
   ],
   "source": [
    "#print duplicated entry of compte-client's column\n",
    "file[file['Compte-Client'].duplicated(keep=False)]"
   ]
  },
  {
   "cell_type": "code",
   "execution_count": 74,
   "metadata": {},
   "outputs": [
    {
     "data": {
      "text/plain": [
       "count    49270.000000\n",
       "mean        26.632231\n",
       "std         18.331209\n",
       "min          2.000000\n",
       "25%         14.000000\n",
       "50%         22.000000\n",
       "75%         36.000000\n",
       "max         99.000000\n",
       "Name: Age Client, dtype: float64"
      ]
     },
     "execution_count": 74,
     "metadata": {},
     "output_type": "execute_result"
    }
   ],
   "source": [
    "#\"Age Client\" colum's analysis\n",
    "#file.describe()\n",
    "age = file['Age Client']\n",
    "age.describe()\n",
    "# min (Age Client) = 2 \n",
    "# max (Age Client) = 99\n",
    "# mean (Age Client) = 26.632231"
   ]
  },
  {
   "cell_type": "code",
   "execution_count": 75,
   "metadata": {},
   "outputs": [
    {
     "data": {
      "text/plain": [
       "22.0"
      ]
     },
     "execution_count": 75,
     "metadata": {},
     "output_type": "execute_result"
    }
   ],
   "source": [
    "#median\n",
    "from statistics import median\n",
    "median(age)"
   ]
  },
  {
   "cell_type": "code",
   "execution_count": 186,
   "metadata": {},
   "outputs": [
    {
     "data": {
      "text/plain": [
       "{2, 4, 6, 8, 10, 12}"
      ]
     },
     "execution_count": 186,
     "metadata": {},
     "output_type": "execute_result"
    }
   ],
   "source": [
    "#values of Recence for which \"Achats de l'année\" is not null  \n",
    "#if those values are less than or equal to 12 our point is checked\n",
    "result = [file['Recence'][i]  for i in range(len(file)) if file['Achats de l\\'année'][i]!=0]\n",
    "set(result)"
   ]
  },
  {
   "cell_type": "code",
   "execution_count": 187,
   "metadata": {},
   "outputs": [
    {
     "data": {
      "text/plain": [
       "{2, 4, 6}"
      ]
     },
     "execution_count": 187,
     "metadata": {},
     "output_type": "execute_result"
    }
   ],
   "source": [
    "#values of Recence for which \"Achats du semestre\" is not null  \n",
    "#if those values are less then are equal to 6 our point is OK\n",
    "result2 = [file['Recence'][i]  for i in range(len(file)) if file['Achats du semestre'][i]!=0]\n",
    "set(result2)"
   ]
  },
  {
   "cell_type": "code",
   "execution_count": 188,
   "metadata": {},
   "outputs": [
    {
     "data": {
      "text/plain": [
       "{2}"
      ]
     },
     "execution_count": 188,
     "metadata": {},
     "output_type": "execute_result"
    }
   ],
   "source": [
    "#values of Recence for which \"Achats du trimestre\" is not null  \n",
    "#if those values are less then are equal to 3, our point is Good\n",
    "result3 = [file['Recence'][i]  for i in range(len(file)) if file['Achats du trimestre'][i]!=0]\n",
    "set(result3)"
   ]
  },
  {
   "cell_type": "code",
   "execution_count": null,
   "metadata": {},
   "outputs": [],
   "source": []
  }
 ],
 "metadata": {
  "kernelspec": {
   "display_name": "Python 3",
   "language": "python",
   "name": "python3"
  },
  "language_info": {
   "codemirror_mode": {
    "name": "ipython",
    "version": 3
   },
   "file_extension": ".py",
   "mimetype": "text/x-python",
   "name": "python",
   "nbconvert_exporter": "python",
   "pygments_lexer": "ipython3",
   "version": "3.8.3"
  }
 },
 "nbformat": 4,
 "nbformat_minor": 4
}
